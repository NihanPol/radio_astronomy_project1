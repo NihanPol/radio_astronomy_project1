{
 "cells": [
  {
   "cell_type": "code",
   "execution_count": 3,
   "metadata": {
    "scrolled": true
   },
   "outputs": [
    {
     "name": "stdout",
     "output_type": "stream",
     "text": [
      "Using matplotlib backend: TkAgg\n",
      "Populating the interactive namespace from numpy and matplotlib\n",
      "[2.35659383e-03 9.81327447e+09 2.60862123e+05]\n",
      "[1.11408487e-15 2.94682187e+17 2.96288046e+17]\n"
     ]
    }
   ],
   "source": [
    "import numpy as np, scipy, matplotlib\n",
    "import matplotlib.pyplot as pl\n",
    "from scipy.optimize import curve_fit\n",
    "import matplotlib.ticker as ticker\n",
    "from scipy.signal import detrend\n",
    "import scipy.constants as const\n",
    "%pylab\n",
    "\n",
    "g031_freq, g031_temp = np.loadtxt(\"G031.727.dat\", unpack = 1)\n",
    "\n",
    "#Get the stupid frequencies in ascending order\n",
    "g031_freq = g031_freq[:: -1] * 1e6\n",
    "g031_temp = g031_temp[:: -1]\n",
    "\n",
    "#Trim off the first 500 samples corresponding to bad baseline\n",
    "g031_freq = g031_freq[300:]\n",
    "g031_temp = g031_temp[300:]\n",
    "\n",
    "#pl.plot(g031_freq, g031_temp)\n",
    "\n",
    "#Script to remove baseline\n",
    "#Use polyfit instead of curve_fit as don't know the function\n",
    "\n",
    "coeff = np.polyfit(g031_freq, g031_temp, 3)\n",
    "baseline = np.poly1d(coeff)\n",
    "\n",
    "g031_temp_corr = g031_temp - baseline(g031_freq)\n",
    "\n",
    "#pl.plot(g031_freq, g031_temp_corr)\n",
    "\n",
    "#Plot the raw data and corrected data\n",
    "\n",
    "fig, (ax0, ax1) = plt.subplots(nrows = 2, ncols = 1, sharex = True, sharey = True)\n",
    "\n",
    "ax0.plot(g031_freq, g031_temp, 'r')\n",
    "ax1.plot(g031_freq, g031_temp_corr, 'r')\n",
    "\n",
    "#ax0.set_ylabel(\"Antenna Temperature (K)\", fontsize = 22)\n",
    "ax1.set_xlabel(\"Frequency (Hz)\", fontsize = 22)\n",
    "\n",
    "fig.text(0.00, 0.5, 'Antenna Temperature (K)', va='center', rotation='vertical', fontsize = 20)\n",
    "\n",
    "pl.savefig(\"g031_raw_corr.pdf\")\n",
    "pl.show()\n",
    "\n",
    "#Smooth the data, cause I can't see the line in this:\n",
    "\n",
    "def smooth(y, box_pts):\n",
    "    box = np.ones(box_pts)/box_pts\n",
    "    y_smooth = np.convolve(y, box, mode='same')\n",
    "    return y_smooth\n",
    "\n",
    "#pl.plot(range(len(g031_freq)), g031_temp_corr)\n",
    "\n",
    "#Fit that weak line towards the end of the spectrum:\n",
    "\n",
    "def gaussian(x, a, b, c):\n",
    "    \n",
    "    return a * np.exp(-(x - b) ** 2 / (2 * c ** 2))\n",
    "\n",
    "popt, pconv = curve_fit(gaussian, g031_freq[3100: 3300], g031_temp_corr[3100: 3300], p0 = (0.1, 9815e6, 1e6), maxfev = 2000)\n",
    "\n",
    "print(popt)\n",
    "print(np.diag(pconv) ** 2)\n",
    "\n",
    "hpbw = popt[2] * 2.355 \n",
    "\n",
    "fig, ax = pl.subplots()\n",
    "\n",
    "ax.plot(g031_freq[3000: 3500], g031_temp[3000: 3500], color = 'r', label = 'data')\n",
    "ax.plot(g031_freq[3000: 3500], gaussian(g031_freq[3000: 3500], *popt), color = 'g', label = 'fit')\n",
    "\n",
    "ax.set_xlabel(\"Frequency (MHz)\", fontsize = 22)\n",
    "ax.set_ylabel(\"Antenna Temperature (K)\", fontsize = 22)\n",
    "\n",
    "fig.tight_layout()\n",
    "pl.legend(loc = 'best', frameon = False, fontsize = 18)\n",
    "pl.savefig(\"g031_best_fit.pdf\")"
   ]
  },
  {
   "cell_type": "code",
   "execution_count": 25,
   "metadata": {},
   "outputs": [
    {
     "name": "stdout",
     "output_type": "stream",
     "text": [
      "9362.050518672044\n"
     ]
    }
   ],
   "source": [
    "#Calculate electron temperature and line brightness temperature and EM\n",
    "#Look at equations 7.35 and 7.97 in ERA\n",
    "\n",
    "T_e = const.m_p * (const.c ** 2 / (8 * np.log(2) * const.k) ) * (hpbw / popt[1]) ** 2 \n",
    "\n",
    "print T_e"
   ]
  },
  {
   "cell_type": "code",
   "execution_count": 27,
   "metadata": {},
   "outputs": [
    {
     "name": "stdout",
     "output_type": "stream",
     "text": [
      "2.307929362135442\n"
     ]
    }
   ],
   "source": [
    "#Calculate the line brightness and EM here (Eq 7.97 in ERA):\n",
    "\n",
    "A_e = 5262.9792822\n",
    "omega = 1.87605047039e-07  #These values taken from continuum_analysis notebook\n",
    "\n",
    "T_b = gaussian(popt[1], *popt) * const.c ** 2 / (A_e * omega * popt[1] ** 2)\n",
    "\n",
    "print T_b * 1e3"
   ]
  },
  {
   "cell_type": "code",
   "execution_count": 28,
   "metadata": {},
   "outputs": [
    {
     "name": "stdout",
     "output_type": "stream",
     "text": [
      "737.8307716243816\n"
     ]
    }
   ],
   "source": [
    "#EM stuff here:\n",
    "\n",
    "EM = T_b * (T_e ** 1.5) * (hpbw / 1e3) / (1.92e3)\n",
    "\n",
    "print EM"
   ]
  },
  {
   "cell_type": "code",
   "execution_count": 30,
   "metadata": {},
   "outputs": [
    {
     "name": "stdout",
     "output_type": "stream",
     "text": [
      "Source size: 0.7378307716243816 pc\n"
     ]
    }
   ],
   "source": [
    "#Estimate source size here using ERA eq. 7.95 and assuming all EM comes from source, none\n",
    "#from electrons along LOS:\n",
    "\n",
    "n_e = 1e3 #Need to find references for this. Source is Cas A\n",
    "\n",
    "L = EM / (n_e ** 2)   #in pc\n",
    "\n",
    "#convert L to lyr:\n",
    "#L = L * 3.26156\n",
    "\n",
    "print \"Source size:\", L * 1e3, \"pc\""
   ]
  },
  {
   "cell_type": "code",
   "execution_count": null,
   "metadata": {
    "collapsed": true
   },
   "outputs": [],
   "source": []
  }
 ],
 "metadata": {
  "kernelspec": {
   "display_name": "Python 2",
   "language": "python",
   "name": "python2"
  },
  "language_info": {
   "codemirror_mode": {
    "name": "ipython",
    "version": 2
   },
   "file_extension": ".py",
   "mimetype": "text/x-python",
   "name": "python",
   "nbconvert_exporter": "python",
   "pygments_lexer": "ipython2",
   "version": "2.7.12"
  }
 },
 "nbformat": 4,
 "nbformat_minor": 2
}
