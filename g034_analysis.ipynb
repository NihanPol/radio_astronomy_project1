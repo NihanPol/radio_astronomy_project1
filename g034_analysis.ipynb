{
 "cells": [
  {
   "cell_type": "code",
   "execution_count": 36,
   "metadata": {},
   "outputs": [],
   "source": [
    "import numpy as np, scipy, matplotlib\n",
    "import matplotlib.pyplot as pl\n",
    "from scipy.optimize import curve_fit\n",
    "import matplotlib.ticker as ticker\n",
    "from scipy.signal import detrend\n",
    "%matplotlib notebook\n",
    "\n",
    "g034_freq, g034_temp = np.loadtxt(\"G034.133.dat\", unpack = 1)\n",
    "\n",
    "#Get the stupid frequencies in ascending order\n",
    "g034_freq = g034_freq[:: -1]\n",
    "g034_temp = g034_temp[:: -1]\n",
    "\n",
    "#Trim off the first 500 samples corresponding to bad baseline\n",
    "g034_freq = g034_freq[500:]\n",
    "g034_temp = g034_temp[500:]\n",
    "\n",
    "#detrend the signal to bring it down to earth\n",
    "g034_temp = detrend(g034_temp, type = 'constant')\n",
    "\n",
    "#pl.plot(g034_freq[500: 1000], g034_temp[500: 1000])\n",
    "\n",
    "#Script to fit a gaussian\n",
    "\n",
    "def gaussian(x, a, b, c):\n",
    "    \n",
    "    return a * np.exp(-(x - b) ** 2 / (2 * c ** 2))\n",
    "\n",
    "popt, pconv = curve_fit(gaussian, g034_freq[500: 1000], g034_temp[500: 1000], p0 = (1, 9170, 2), maxfev = 2000)\n",
    "\n",
    "print(popt)\n",
    "print(np.diag(pconv) ** 2)\n",
    "\n",
    "fig, ax = pl.subplots()\n",
    "\n",
    "ax.plot(g034_freq[500: 1000], g034_temp[500: 1000], color = 'r', label = 'data')\n",
    "ax.plot(g034_freq[500: 1000], gaussian(g034_freq[500: 1000], *popt), color = 'g', label = 'fit')\n",
    "\n",
    "ax.set_xlabel(\"Frequency (MHz)\", fontsize = 22)\n",
    "ax.set_ylabel(\"Antenna Temperature (K)\", fontsize = 22)\n",
    "\n"
   ]
  },
  {
   "cell_type": "code",
   "execution_count": null,
   "metadata": {},
   "outputs": [],
   "source": []
  }
 ],
 "metadata": {
  "kernelspec": {
   "display_name": "Python 3",
   "language": "python",
   "name": "python3"
  },
  "language_info": {
   "codemirror_mode": {
    "name": "ipython",
    "version": 2
   },
   "file_extension": ".py",
   "mimetype": "text/x-python",
   "name": "python",
   "nbconvert_exporter": "python",
   "pygments_lexer": "ipython2",
   "version": "2.7.12"
  }
 },
 "nbformat": 4,
 "nbformat_minor": 2
}
