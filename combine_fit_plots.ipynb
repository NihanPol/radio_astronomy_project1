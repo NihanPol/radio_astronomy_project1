{
 "cells": [
  {
   "cell_type": "code",
   "execution_count": 1,
   "metadata": {},
   "outputs": [
    {
     "name": "stdout",
     "output_type": "stream",
     "text": [
      "Using matplotlib backend: TkAgg\n",
      "Populating the interactive namespace from numpy and matplotlib\n",
      "[2.35659383e-03 9.81327447e+09 2.60862123e+05]\n",
      "[1.11408487e-15 2.94682187e+17 2.96288046e+17]\n"
     ]
    },
    {
     "name": "stderr",
     "output_type": "stream",
     "text": [
      "/usr/local/lib/python2.7/dist-packages/IPython/core/magics/pylab.py:161: UserWarning: pylab import has clobbered these variables: ['detrend']\n",
      "`%matplotlib` prevents importing * from pylab and numpy\n",
      "  \"\\n`%matplotlib` prevents importing * from pylab and numpy\"\n"
     ]
    }
   ],
   "source": [
    "import numpy as np, scipy, matplotlib\n",
    "import matplotlib.pyplot as pl\n",
    "from scipy.optimize import curve_fit\n",
    "import matplotlib.ticker as ticker\n",
    "from scipy.signal import detrend\n",
    "import scipy.constants as const\n",
    "%pylab\n",
    "\n",
    "g031_freq, g031_temp = np.loadtxt(\"G031.727.dat\", unpack = 1)\n",
    "\n",
    "#Get the stupid frequencies in ascending order\n",
    "g031_freq = g031_freq[:: -1] * 1e6\n",
    "g031_temp = g031_temp[:: -1]\n",
    "\n",
    "#Trim off the first 500 samples corresponding to bad baseline\n",
    "g031_freq = g031_freq[300:]\n",
    "g031_temp = g031_temp[300:]\n",
    "\n",
    "#Script to remove baseline\n",
    "#Use polyfit instead of curve_fit as don't know the function\n",
    "\n",
    "coeff = np.polyfit(g031_freq, g031_temp, 3)\n",
    "baseline = np.poly1d(coeff)\n",
    "\n",
    "g031_temp_corr = g031_temp - baseline(g031_freq)\n",
    "\n",
    "#pl.plot(g031_freq, g031_temp_corr)\n",
    "\n",
    "#Fit that weak line towards the end of the spectrum:\n",
    "\n",
    "def gaussian(x, a, b, c):\n",
    "    \n",
    "    return a * np.exp(-(x - b) ** 2 / (2 * c ** 2))\n",
    "\n",
    "popt, pconv = curve_fit(gaussian, g031_freq[3100: 3300], g031_temp_corr[3100: 3300], p0 = (0.1, 9815e6, 1e6), maxfev = 2000)\n",
    "\n",
    "print(popt)\n",
    "print(np.diag(pconv) ** 2)\n",
    "\n",
    "hpbw = popt[2] * 2.355 \n"
   ]
  },
  {
   "cell_type": "code",
   "execution_count": 2,
   "metadata": {
    "scrolled": true
   },
   "outputs": [
    {
     "name": "stdout",
     "output_type": "stream",
     "text": [
      "Warning: Cannot change to a different GUI toolkit: notebook. Using tk instead.\n",
      "[2.35659383e-03 9.81327447e+09 2.60862123e+05]\n",
      "[2.03886234e-10 3.26041601e+16 3.27407220e+16]\n"
     ]
    }
   ],
   "source": [
    "import numpy as np, scipy, matplotlib\n",
    "import matplotlib.pyplot as pl\n",
    "from scipy.optimize import curve_fit\n",
    "import matplotlib.ticker as ticker\n",
    "from scipy.signal import detrend\n",
    "import scipy.constants as const\n",
    "%matplotlib notebook\n",
    "\n",
    "g034_freq, g034_temp = np.loadtxt(\"G034.133.dat\", unpack = 1)\n",
    "\n",
    "#Get the stupid frequencies in ascending order\n",
    "g034_freq = g034_freq[:: -1] * 1e6\n",
    "g034_temp = g034_temp[:: -1]\n",
    "\n",
    "#Trim off the first 500 samples corresponding to bad baseline\n",
    "g034_freq = g034_freq[500:]\n",
    "g034_temp = g034_temp[500:]\n",
    "\n",
    "#detrend the signal to bring it down to earth\n",
    "g034_temp = detrend(g034_temp, type = 'constant')\n",
    "\n",
    "#pl.plot(g034_freq[500: 1000], g034_temp[500: 1000])\n",
    "\n",
    "#Script to fit a gaussian\n",
    "\n",
    "def gaussian2(x, a, b, c):\n",
    "    \n",
    "    return a * np.exp(-(x - b) ** 2 / (2 * c ** 2))\n",
    "\n",
    "popt2, pconv = curve_fit(gaussian2, g034_freq[500: 1000], g034_temp[500: 1000], p0 = (1, 9170e6, 2e6), maxfev = 2000)\n",
    "\n",
    "print(popt)\n",
    "print(np.diag(pconv) ** 2)\n",
    "\n",
    "hpbw = popt[2] * 2.355 "
   ]
  },
  {
   "cell_type": "code",
   "execution_count": 3,
   "metadata": {},
   "outputs": [],
   "source": [
    "fig, (ax0, ax1) = pl.subplots(nrows = 2, ncols = 1)\n",
    "\n",
    "ax0.plot(g031_freq[3000: 3500], g031_temp[3000: 3500], color = 'r', label = 'data')\n",
    "ax0.plot(g031_freq[3000: 3500], gaussian(g031_freq[3000: 3500], *popt), color = 'g', label = 'fit')\n",
    "\n",
    "ax1.plot(g034_freq[500: 1000], g034_temp[500: 1000], color = 'r', label = 'data')\n",
    "ax1.plot(g034_freq[500: 1000], gaussian2(g034_freq[500: 1000], *popt2), color = 'g', label = 'fit')\n",
    "\n",
    "fig.text(0.00, 0.5, 'Antenna Temperature (K)', va='center', rotation='vertical', fontsize = 20)\n",
    "ax1.set_xlabel(\"Frequency (Hz)\", fontsize = 20)\n",
    "\n",
    "fig.tight_layout()\n",
    "ax0.legend(loc = 'best', frameon = False, fontsize = 15)\n",
    "pl.show()"
   ]
  },
  {
   "cell_type": "code",
   "execution_count": null,
   "metadata": {},
   "outputs": [],
   "source": []
  }
 ],
 "metadata": {
  "kernelspec": {
   "display_name": "Python 3",
   "language": "python",
   "name": "python3"
  },
  "language_info": {
   "codemirror_mode": {
    "name": "ipython",
    "version": 2
   },
   "file_extension": ".py",
   "mimetype": "text/x-python",
   "name": "python",
   "nbconvert_exporter": "python",
   "pygments_lexer": "ipython2",
   "version": "2.7.12"
  }
 },
 "nbformat": 4,
 "nbformat_minor": 2
}
